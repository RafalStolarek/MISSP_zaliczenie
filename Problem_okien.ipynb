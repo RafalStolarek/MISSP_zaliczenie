{
 "cells": [
  {
   "cell_type": "markdown",
   "metadata": {},
   "source": [
    "# Problem z optymalną produkcją okien\n",
    "\n",
    "### W 3 fabrykach produkowane są dwa typy okien - drewniane i aluminiowe. Fabryka 1 produkuje tylko okna aluminiowe, Fabryka 2 tylko okna drewniane, a Fabryka 3 oba typy okien. Wydajność fabryk i ich dostępność jest dostępna w tabeli. \n",
    "### Naszym zadaniem jest podzielenie produkcji na poszczególne fabryki tak, aby nasze zyski były jak największe."
   ]
  },
  {
   "attachments": {
    "image.png": {
     "image/png": "[encoded data removed]"
    }
   },
   "cell_type": "markdown",
   "metadata": {},
   "source": [
    "## Tabela:\n",
    "![image.png](attachment:image.png)"
   ]
  },
  {
   "cell_type": "code",
   "execution_count": 1,
   "metadata": {},
   "outputs": [],
   "source": [
    "from pulp import *"
   ]
  },
  {
   "cell_type": "raw",
   "metadata": {},
   "source": [
    "prob = LpProblem(\"Problem okien\", LpMaximize)\n",
    "x1=LpVariable(\"Ilość pakietów okien aluminiowych\",0)\n",
    "x2=LpVariable(\"Ilość pakietów okien drewnianych\",0)\n",
    "prob += 3000*x1 + 5000*x2, \"Zysk\"\n",
    "\n",
    "prob += x1 <= 4, \"F1\"\n",
    "prob += 2*x2 <= 12, \"F2\"\n",
    "prob += 3*x1 + 2*x2 <= 18, \"F3\"\n",
    "\n",
    "prob.writeLP(\"okna.lp\")\n",
    "prob.solve()\n",
    "\n",
    "print(\"Status:\", LpStatus[prob.status])\n",
    "\n",
    "for v in prob.variables():\n",
    "    print(v.name,\"=\",v.varValue)\n",
    "\n",
    "print(\"Max zysk\", value(prob.objective))"
   ]
  },
  {
   "cell_type": "code",
   "execution_count": 2,
   "metadata": {},
   "outputs": [
    {
     "data": {
      "application/vnd.jupyter.widget-view+json": {
       "model_id": "b049c43510ce4c2c98f729ecc371bf20",
       "version_major": 2,
       "version_minor": 0
      },
      "text/plain": [
       "interactive(children=(IntSlider(value=3000, description='cena_X1_slider', max=20000, style=SliderStyle(descrip…"
      ]
     },
     "metadata": {},
     "output_type": "display_data"
    },
    {
     "data": {
      "text/plain": [
       "<function __main__.Produkcja_okien(cena_X1=3000, cena_X2=5000, ilosc_x1_F1=1, ilosc_x2_F1=0, ilosc_x1_F2=0, ilosc_x2_F2=2, ilosc_x1_F3=3, ilosc_x2_F3=2, liczba_godzin_F1=4, liczba_godzin_F2=12, liczba_godzin_F3=18)>"
      ]
     },
     "execution_count": 2,
     "metadata": {},
     "output_type": "execute_result"
    }
   ],
   "source": [
    "from __future__ import print_function\n",
    "from ipywidgets import interact, interactive, fixed, interact_manual, Layout, FloatSlider, IntSlider\n",
    "import ipywidgets as widgets\n",
    "import pandas as pd\n",
    "\n",
    "style = {'description_width': 'initial'}\n",
    "\n",
    "\n",
    "cena_X1_slider = IntSlider(min=0,max = 20000, value= 3000 , description=\"cena_X1_slider\", style= style )\n",
    "cena_X2_slider = IntSlider(min=0,max = 20000,value= 5000, description=\"cena_X2_slider\", style= style )\n",
    "ilosc_x1_F1_slider = IntSlider(min=0,max = 10, value= 1, description=\"ilosc_x1_F1_slider\", style= style )\n",
    "ilosc_x2_F1_slider = IntSlider(min=0,max = 10, value= 0, description=\"ilosc_x2_F1_slider\", style= style )\n",
    "ilosc_x1_F2_slider = IntSlider(min=0,max = 10,value= 0, description=\"ilosc_x1_F2_slider\", style= style )\n",
    "ilosc_x2_F2_slider = IntSlider(min=0,max = 10,value= 2, description=\"ilosc_x2_F2_slider\", style= style )\n",
    "ilosc_x1_F3_slider = IntSlider(min=0,max = 10,value= 3, description=\"ilosc_x1_F3_slider\", style= style )\n",
    "ilosc_x2_F3_slider = IntSlider(min=0,max = 10,value= 2, description=\"ilosc_x2_F3_slider\", style= style )\n",
    "liczba_godzin_F1_slider = IntSlider(min=0,max = 25,value= 4, description=\"liczba_godzin_F1_slider\", style= style )\n",
    "liczba_godzin_F2_slider = IntSlider(min=0,max = 25,value= 12, description=\"liczba_godzin_F2_slider\", style= style )\n",
    "liczba_godzin_F3_slider = IntSlider(min=0,max = 25,value= 18, description=\"liczba_godzin_F3_slider\", style= style )\n",
    "\n",
    "def Produkcja_okien(cena_X1=3000,\n",
    "    cena_X2 = 5000,\n",
    "    ilosc_x1_F1 = 1,\n",
    "    ilosc_x2_F1 = 0,\n",
    "    ilosc_x1_F2 = 0,\n",
    "    ilosc_x2_F2 = 2,\n",
    "    ilosc_x1_F3 = 3,\n",
    "    ilosc_x2_F3 = 2,\n",
    "    liczba_godzin_F1 = 4,\n",
    "    liczba_godzin_F2 = 12,\n",
    "    liczba_godzin_F3 = 18):\n",
    "\n",
    "    prob = LpProblem(\"Problem okien 2\", LpMaximize)\n",
    "    x1=LpVariable(\"Ilość pakietów okien aluminiowych\",0)\n",
    "    x2=LpVariable(\"Ilość pakietów okien drewnianych\",0)\n",
    "    prob += cena_X1*x1 + cena_X2*x2, \"Zysk\"\n",
    "\n",
    "    prob += ilosc_x1_F1*x1 + ilosc_x2_F1*x2 <= liczba_godzin_F1, \"F1\"\n",
    "    prob += ilosc_x1_F2*x1 + ilosc_x2_F2*x2 <= liczba_godzin_F2, \"F2\"\n",
    "    prob += ilosc_x1_F3*x1 + ilosc_x2_F3*x2 <= liczba_godzin_F3, \"F3\"\n",
    "\n",
    "    prob.writeLP(\"okna2.lp\")\n",
    "    prob.solve()\n",
    "    \n",
    "    print(\"Status:\", LpStatus[prob.status])\n",
    "\n",
    "    for v in prob.variables():\n",
    "        print(v.name,\"=\",v.varValue)\n",
    "\n",
    "    print(\"Zysk wyniesie {} zł  \".format( value(prob.objective)))\n",
    "    \n",
    "    \n",
    "    shadows = [{'name':name, 'shadow price': c.pi, \"slack\": c.slack} for name, c in prob.constraints.items()]\n",
    "    print(\"*\"*10+\"Shadow Prices\"+\"*\"*10)\n",
    "    print(pd.DataFrame(shadows))\n",
    "    \n",
    "interact(Produkcja_okien,cena_X1 = cena_X1_slider,\n",
    "    cena_X2 =    cena_X2_slider,\n",
    "    ilosc_x1_F1 =    ilosc_x1_F1_slider,\n",
    "    ilosc_x2_F1 =ilosc_x2_F1_slider,\n",
    "    ilosc_x1_F2 =ilosc_x1_F2_slider,\n",
    "    ilosc_x2_F2 =ilosc_x2_F2_slider,\n",
    "    ilosc_x1_F3 =ilosc_x1_F3_slider,\n",
    "    ilosc_x2_F3 =ilosc_x2_F3_slider,\n",
    "    liczba_godzin_F1 =liczba_godzin_F1_slider,\n",
    "    liczba_godzin_F2 =liczba_godzin_F2_slider,\n",
    "    liczba_godzin_F3 =liczba_godzin_F3_slider)"
   ]
  },
  {
   "cell_type": "code",
   "execution_count": null,
   "metadata": {},
   "outputs": [],
   "source": []
  }
 ],
 "metadata": {
  "kernelspec": {
   "display_name": "Python 3",
   "language": "python",
   "name": "python3"
  },
  "language_info": {
   "codemirror_mode": {
    "name": "ipython",
    "version": 3
   },
   "file_extension": ".py",
   "mimetype": "text/x-python",
   "name": "python",
   "nbconvert_exporter": "python",
   "pygments_lexer": "ipython3",
   "version": "3.7.6"
  }
 },
 "nbformat": 4,
 "nbformat_minor": 4
}
