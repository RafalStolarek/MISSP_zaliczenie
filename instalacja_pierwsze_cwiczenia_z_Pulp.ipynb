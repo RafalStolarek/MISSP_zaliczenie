{
 "cells": [
  {
   "cell_type": "markdown",
   "metadata": {},
   "source": [
    "# Instalacja Pulpa"
   ]
  },
  {
   "cell_type": "code",
   "execution_count": 4,
   "metadata": {
    "colab": {
     "base_uri": "https://localhost:8080/",
     "height": 215
    },
    "id": "BjX-mj9e8D5a",
    "outputId": "a53b8a45-9e84-4a48-fa91-5597eeb80850"
   },
   "outputs": [
    {
     "name": "stdout",
     "output_type": "stream",
     "text": [
      "Requirement already satisfied: pulp in c:\\users\\rafal\\anaconda3\\lib\\site-packages (2.3)\n",
      "Requirement already satisfied: amply>=0.1.2 in c:\\users\\rafal\\anaconda3\\lib\\site-packages (from pulp) (0.1.4)\n",
      "Requirement already satisfied: pyparsing in c:\\users\\rafal\\anaconda3\\lib\\site-packages (from amply>=0.1.2->pulp) (2.4.6)\n",
      "Requirement already satisfied: docutils>=0.3 in c:\\users\\rafal\\anaconda3\\lib\\site-packages (from amply>=0.1.2->pulp) (0.16)\n"
     ]
    }
   ],
   "source": [
    "!pip install pulp\n"
   ]
  },
  {
   "cell_type": "code",
   "execution_count": 5,
   "metadata": {
    "colab": {
     "base_uri": "https://localhost:8080/",
     "height": 35
    },
    "id": "HMGiufp89W-9",
    "outputId": "9e6761ea-6310-4ebe-ec96-bffc23a0215c"
   },
   "outputs": [
    {
     "name": "stdout",
     "output_type": "stream",
     "text": [
      "2.3\n"
     ]
    }
   ],
   "source": [
    "### kod sprawdza czy instalacja się udała\n",
    "import pulp\n",
    "\n",
    "print(pulp.__version__)"
   ]
  },
  {
   "cell_type": "code",
   "execution_count": 6,
   "metadata": {
    "colab": {
     "base_uri": "https://localhost:8080/",
     "height": 1000
    },
    "id": "05p9Frax-V2f",
    "outputId": "15f6160b-c4cc-46ba-d7eb-aa23416c0ac5"
   },
   "outputs": [
    {
     "name": "stderr",
     "output_type": "stream",
     "text": [
      "......."
     ]
    },
    {
     "name": "stdout",
     "output_type": "stream",
     "text": [
      "Solver <class 'pulp.apis.coin_api.PULP_CBC_CMD'> available\n",
      "Solver <class 'pulp.apis.cplex_api.CPLEX_DLL'> unavailable\n",
      "Solver <class 'pulp.apis.cplex_api.CPLEX_CMD'> unavailable\n",
      "Solver <class 'pulp.apis.cplex_api.CPLEX_PY'> unavailable\n",
      "Solver <class 'pulp.apis.coin_api.COIN_CMD'> unavailable\n",
      "Solver <class 'pulp.apis.coin_api.COINMP_DLL'> unavailable\n",
      "Solver <class 'pulp.apis.glpk_api.GLPK_CMD'> available\n",
      "Solver <class 'pulp.apis.xpress_api.XPRESS'> unavailable\n",
      "Solver <class 'pulp.apis.gurobi_api.GUROBI'> unavailable\n",
      "Solver <class 'pulp.apis.gurobi_api.GUROBI_CMD'> unavailable\n",
      "Solver <class 'pulp.apis.glpk_api.PYGLPK'> unavailable\n",
      "Solver <class 'pulp.apis.coin_api.YAPOSIB'> unavailable\n",
      "Solver <class 'pulp.apis.choco_api.PULP_CHOCO_CMD'> unavailable\n",
      "Solver <class 'pulp.apis.choco_api.CHOCO_CMD'> unavailable\n",
      "Solver <class 'pulp.apis.mipcl_api.MIPCL_CMD'> unavailable\n",
      "Solver <class 'pulp.apis.mosek_api.MOSEK'> unavailable\n",
      "\t Testing invalid status\n",
      "\t Testing continuous LP solution\n",
      "\t Testing MIP solution\n",
      "\t Testing maximize continuous LP solution\n",
      "\t Testing continuous LP solution\n",
      "\t Testing continuous LP solution\n",
      "\t Testing continuous LP solution\n"
     ]
    },
    {
     "name": "stderr",
     "output_type": "stream",
     "text": [
      ".............."
     ]
    },
    {
     "name": "stdout",
     "output_type": "stream",
     "text": [
      "\t Testing makeDict general behavior\n",
      "\t Testing makeDict default value behavior\n",
      "\t Testing the availability of the function pulpTestAll\n",
      "\t Testing zero subtraction\n",
      "\t Testing inconsistant lp solution\n",
      "\t Testing continuous LP solution\n",
      "\t Testing maximize continuous LP solution\n",
      "\t Testing unbounded continuous LP solution\n",
      "\t Testing Long Names\n",
      "\t Testing repeated Names\n",
      "\t Testing zero constraint\n",
      "\t Testing zero objective\n",
      "\t Testing LpVariable (not LpAffineExpression) objective\n"
     ]
    },
    {
     "name": "stderr",
     "output_type": "stream",
     "text": [
      "........"
     ]
    },
    {
     "name": "stdout",
     "output_type": "stream",
     "text": [
      "\t Testing Long lines in LP\n",
      "\t Testing LpAffineExpression divide\n",
      "\t Testing MIP solution\n",
      "\t Testing MIP solution with floats in objective\n",
      "\t Testing MIP solution\n",
      "\t Testing MIP solution\n",
      "\t Testing MIP relaxation\n",
      "\t Testing feasibility problem (no objective)\n",
      "\t Testing an infeasible problem\n"
     ]
    },
    {
     "name": "stderr",
     "output_type": "stream",
     "text": [
      ".........."
     ]
    },
    {
     "name": "stdout",
     "output_type": "stream",
     "text": [
      "\t Testing an integer infeasible problem\n",
      "\t Testing another integer infeasible problem\n",
      "\t Testing column based modelling\n",
      "\t Testing dual variables and slacks reporting\n",
      "\t Testing fractional constraints\n",
      "\t Testing elastic constraints (no change)\n",
      "\t Testing elastic constraints (freebound)\n"
     ]
    },
    {
     "name": "stderr",
     "output_type": "stream",
     "text": [
      "........"
     ]
    },
    {
     "name": "stdout",
     "output_type": "stream",
     "text": [
      "\t Testing elastic constraints (penalty unchanged)\n",
      "\t Testing elastic constraints (penalty unbounded)\n",
      "\t Testing invalid status\n",
      "\t Testing continuous LP solution\n",
      "\t Testing MIP solution\n",
      "\t Testing maximize continuous LP solution\n"
     ]
    },
    {
     "name": "stderr",
     "output_type": "stream",
     "text": [
      "............."
     ]
    },
    {
     "name": "stdout",
     "output_type": "stream",
     "text": [
      "\t Testing continuous LP solution\n",
      "\t Testing continuous LP solution\n",
      "\t Testing continuous LP solution\n",
      "\t Testing makeDict general behavior\n",
      "\t Testing makeDict default value behavior\n",
      "\t Testing the availability of the function pulpTestAll\n",
      "\t Testing zero subtraction\n",
      "\t Testing inconsistant lp solution\n",
      "\t Testing continuous LP solution\n",
      "\t Testing maximize continuous LP solution\n",
      "\t Testing unbounded continuous LP solution\n",
      "\t Testing Long Names\n",
      "\t Testing repeated Names\n"
     ]
    },
    {
     "name": "stderr",
     "output_type": "stream",
     "text": [
      "........"
     ]
    },
    {
     "name": "stdout",
     "output_type": "stream",
     "text": [
      "\t Testing zero constraint\n",
      "\t Testing zero objective\n",
      "\t Testing LpVariable (not LpAffineExpression) objective\n",
      "\t Testing LpAffineExpression divide\n",
      "\t Testing MIP solution\n",
      "\t Testing MIP solution with floats in objective\n"
     ]
    },
    {
     "name": "stderr",
     "output_type": "stream",
     "text": [
      "....."
     ]
    },
    {
     "name": "stdout",
     "output_type": "stream",
     "text": [
      "\t Testing MIP solution\n",
      "\t Testing MIP solution\n",
      "\t Testing MIP relaxation\n",
      "\t Testing feasibility problem (no objective)\n",
      "\t Testing an infeasible problem\n",
      "\t Testing an integer infeasible problem\n"
     ]
    },
    {
     "name": "stderr",
     "output_type": "stream",
     "text": [
      "............"
     ]
    },
    {
     "name": "stdout",
     "output_type": "stream",
     "text": [
      "\t Testing another integer infeasible problem\n",
      "\t Testing column based modelling\n",
      "\t Testing fractional constraints\n",
      "\t Testing elastic constraints (no change)\n",
      "\t Testing elastic constraints (freebound)\n",
      "\t Testing elastic constraints (penalty unchanged)\n",
      "\t Testing elastic constraints (penalty unbounded)\n"
     ]
    },
    {
     "name": "stderr",
     "output_type": "stream",
     "text": [
      ".........................................."
     ]
    },
    {
     "name": "stdout",
     "output_type": "stream",
     "text": [
      "{'a': 53.0, 'b': 45.3, 'c': 459.2}\n"
     ]
    },
    {
     "name": "stderr",
     "output_type": "stream",
     "text": [
      "..\n",
      "----------------------------------------------------------------------\n",
      "Ran 129 tests in 2.120s\n",
      "\n",
      "OK\n"
     ]
    }
   ],
   "source": [
    "pulp.pulpTestAll()"
   ]
  },
  {
   "cell_type": "markdown",
   "metadata": {
    "id": "JHP3Y3Yh-stH"
   },
   "source": [
    "# Zadania:\n",
    "\n",
    "1. przeczytaj materiały dotyczące pulp ze strony internetowej https://coin-or.github.io/pulp/main/index.html oraz przejdź przez blending problem (przepisz do swojego notebooka)\n",
    "\n",
    "2. w blending problem dodaj zmienną decyzyjną. Stwórz zmienną która pojawi się w końcowym składzie produktu (tj. wartość zmiennej będzie miała niezerową postać)\n",
    "\n",
    "3. Dodaj ograniczenie co do zawartości witaminy B \n",
    "\n",
    "Zawartość:\n",
    "\n",
    "| Nazwa      | zawartość ug/100g |\n",
    "|------------|-------------------|\n",
    "| chicken    | 0.3               |\n",
    "| beef       | 2.6               |\n",
    "| mutton     | 2.6               |\n",
    "| rice       | 0                 |\n",
    "| wheat bran | 0                 |\n",
    "| gel        | 0                 |\n",
    "| sardines   | 8.9               |\n",
    "\n",
    "Kot ma zjeść minimum 0.24 ug na kilogram masy więc około\n",
    "0.8 ug dziennie\n",
    "\n",
    "4. Na końcu ma pojawiać się zdanie podsumowujące wynik, w stylu:\n",
    "Końcowy produkt będzie kosztować {}, będzie miał w składzie {nazwa}: {} %, {nastepna nazwa}: {} %\n",
    "\n"
   ]
  },
  {
   "cell_type": "markdown",
   "metadata": {},
   "source": [
    "# Problem w wersji uproszczonej:"
   ]
  },
  {
   "cell_type": "code",
   "execution_count": 3,
   "metadata": {},
   "outputs": [],
   "source": [
    "from pulp import *"
   ]
  },
  {
   "cell_type": "code",
   "execution_count": 15,
   "metadata": {
    "id": "Se_t7o8bTLdW"
   },
   "outputs": [
    {
     "name": "stdout",
     "output_type": "stream",
     "text": [
      "Status: Optimal\n",
      "Końcowy produkt będzie kosztować 0.9, będzie miał w składzie: {'Beef': 0.0, 'Chicken': 50.0, 'Sardines': 50.0}\n"
     ]
    }
   ],
   "source": [
    "prob = LpProblem(\"The Whiskas Problem\", LpMinimize)\n",
    "x1=LpVariable(\"Beef\",0)\n",
    "x2=LpVariable(\"Chicken\",0)\n",
    "x3=LpVariable(\"Sardines\",0)\n",
    "prob += 0.013*x1 + 0.008*x2 + 0.010*x3, \"Total Cost of Ingredients per can\"\n",
    "# The five constraints are entered\n",
    "prob += x1 + x2 + x3 == 100, \"PercentagesSum\"\n",
    "prob += 0.100*x1 + 0.200*x2 + 0.193*x3 >= 8.0, \"ProteinRequirement\"\n",
    "prob += 0.080*x1 + 0.100*x2 + 0.135*x3 >= 6.0, \"FatRequirement\"\n",
    "prob += 0.001*x1 + 0.005*x2 + 0.000*x3 <= 2.0, \"FibreRequirement\"\n",
    "prob += 0.002*x1 + 0.005*x2 + 0.003*x3 <= 0.4, \"SaltRequirement\"\n",
    "prob += 0.003*x1 + 0.026*x2 + 0.089*x3 >= 0.8, \"VitamineBRequirement\"\n",
    "\n",
    "# The problem data is written to an .lp file\n",
    "prob.writeLP(\"WhiskasModel.lp\")\n",
    "prob.solve()\n",
    "\n",
    "print(\"Status:\", LpStatus[prob.status])\n",
    "varsdict={}\n",
    "for v in prob.variables():\n",
    "    varsdict[v.name] = v.varValue\n",
    "\n",
    "\n",
    "print(\"Końcowy produkt będzie kosztować {}, będzie miał w składzie: {}\".format(value(prob.objective),varsdict))\n"
   ]
  },
  {
   "cell_type": "markdown",
   "metadata": {},
   "source": [
    "# Problem w pełnej wersji:"
   ]
  },
  {
   "cell_type": "code",
   "execution_count": 19,
   "metadata": {},
   "outputs": [
    {
     "name": "stdout",
     "output_type": "stream",
     "text": [
      "Status: Optimal\n",
      "Końcowy produkt będzie kosztować 0.499999996, będzie miał w składzie: {'_BEEF': 0.0, '_CHICKEN': 0.0, '_GEL': 55.555556, '_MUTTON': 0.0, '_RICE': 0.0, '_SARDINES': 44.444444, '_WHEAT': 0.0}\n"
     ]
    }
   ],
   "source": [
    "#full problem\n",
    "# Creates a list of the Ingredients\n",
    "Ingredients = ['CHICKEN', 'BEEF', 'MUTTON', 'RICE', 'WHEAT', 'GEL','SARDINES']\n",
    "\n",
    "# A dictionary of the costs of each of the Ingredients is created\n",
    "costs = {'CHICKEN': 0.013, \n",
    "         'BEEF': 0.008, \n",
    "         'MUTTON': 0.010, \n",
    "         'RICE': 0.002, \n",
    "         'WHEAT': 0.005, \n",
    "         'GEL': 0.001,\n",
    "         'SARDINES': 0.010}\n",
    "\n",
    "# A dictionary of the protein percent in each of the Ingredients is created\n",
    "proteinPercent = {'CHICKEN': 0.100, \n",
    "                  'BEEF': 0.200, \n",
    "                  'MUTTON': 0.150, \n",
    "                  'RICE': 0.000, \n",
    "                  'WHEAT': 0.040, \n",
    "                  'GEL': 0.000,\n",
    "                  'SARDINES': 0.193}\n",
    "\n",
    "# A dictionary of the fat percent in each of the Ingredients is created\n",
    "fatPercent = {'CHICKEN': 0.080, \n",
    "              'BEEF': 0.100, \n",
    "              'MUTTON': 0.110, \n",
    "              'RICE': 0.010, \n",
    "              'WHEAT': 0.010, \n",
    "              'GEL': 0.000,\n",
    "              'SARDINES': 0.135}\n",
    "\n",
    "# A dictionary of the fibre percent in each of the Ingredients is created\n",
    "fibrePercent = {'CHICKEN': 0.001, \n",
    "                'BEEF': 0.005, \n",
    "                'MUTTON': 0.003, \n",
    "                'RICE': 0.100, \n",
    "                'WHEAT': 0.150, \n",
    "                'GEL': 0.000,\n",
    "                'SARDINES': 0.000}\n",
    "\n",
    "# A dictionary of the salt percent in each of the Ingredients is created\n",
    "saltPercent = {'CHICKEN': 0.002, \n",
    "               'BEEF': 0.005, \n",
    "               'MUTTON': 0.007, \n",
    "               'RICE': 0.002, \n",
    "               'WHEAT': 0.008, \n",
    "               'GEL': 0.000,\n",
    "               'SARDINES': 0.003}\n",
    "\n",
    "VitamineBPercent = {'CHICKEN': 0.003, \n",
    "               'BEEF': 0.026, \n",
    "               'MUTTON': 0.026, \n",
    "               'RICE': 0.000, \n",
    "               'WHEAT': 0.000, \n",
    "               'GEL': 0.000,\n",
    "               'SARDINES': 0.089}\n",
    "\n",
    "prob = LpProblem(\"The Whiskas Problem\", LpMinimize)\n",
    "\n",
    "ingredient_vars = LpVariable.dicts(\"\",Ingredients,0)\n",
    "\n",
    "prob += lpSum([costs[i]*ingredient_vars[i] for i in Ingredients]), \"Total Cost of Ingredients per can\"\n",
    "\n",
    "prob += lpSum([ingredient_vars[i] for i in Ingredients]) == 100, \"PercentagesSum\"\n",
    "prob += lpSum([proteinPercent[i] * ingredient_vars[i] for i in Ingredients]) >= 8.0, \"ProteinRequirement\"\n",
    "prob += lpSum([fatPercent[i] * ingredient_vars[i] for i in Ingredients]) >= 6.0, \"FatRequirement\"\n",
    "prob += lpSum([fibrePercent[i] * ingredient_vars[i] for i in Ingredients]) <= 2.0, \"FibreRequirement\"\n",
    "prob += lpSum([saltPercent[i] * ingredient_vars[i] for i in Ingredients]) <= 0.4, \"SaltRequirement\"\n",
    "prob += lpSum([VitamineBPercent[i] * ingredient_vars[i] for i in Ingredients]) >= 0.8, \"VitamineBRequirement\"\n",
    "prob.writeLP(\"WhiskasModel_full.lp\")\n",
    "prob.solve()\n",
    "\n",
    "print(\"Status:\", LpStatus[prob.status])\n",
    "varsdict={}\n",
    "for v in prob.variables():\n",
    "    varsdict[v.name] = v.varValue\n",
    "\n",
    "\n",
    "print(\"Końcowy produkt będzie kosztować {}, będzie miał w składzie: {}\".format(value(prob.objective),varsdict))"
   ]
  },
  {
   "cell_type": "code",
   "execution_count": null,
   "metadata": {},
   "outputs": [],
   "source": []
  }
 ],
 "metadata": {
  "colab": {
   "collapsed_sections": [],
   "name": "instalacja pierwsze ćwiczenia z Pulp",
   "provenance": []
  },
  "kernelspec": {
   "display_name": "Python 3",
   "language": "python",
   "name": "python3"
  },
  "language_info": {
   "codemirror_mode": {
    "name": "ipython",
    "version": 3
   },
   "file_extension": ".py",
   "mimetype": "text/x-python",
   "name": "python",
   "nbconvert_exporter": "python",
   "pygments_lexer": "ipython3",
   "version": "3.7.6"
  }
 },
 "nbformat": 4,
 "nbformat_minor": 1
}
